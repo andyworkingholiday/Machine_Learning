{
 "cells": [
  {
   "cell_type": "code",
   "execution_count": 4,
   "metadata": {},
   "outputs": [
    {
     "name": "stdout",
     "output_type": "stream",
     "text": [
      "982.3378078198979 \t 1e-05 \t 1 \t\n",
      "884.3551513936325 \t 1.2e-05 \t 2 \t\n",
      "779.1006240420486 \t 1.44e-05 \t 3 \t\n",
      "668.6940613514847 \t 1.7279999999999997e-05 \t 4 \t\n",
      "556.2609760255473 \t 2.0735999999999996e-05 \t 5 \t\n",
      "445.9700557204212 \t 2.4883199999999996e-05 \t 6 \t\n",
      "342.9264599427673 \t 2.9859839999999994e-05 \t 7 \t\n",
      "252.88565571771048 \t 3.583180799999999e-05 \t 8 \t\n",
      "181.71932489502368 \t 4.299816959999999e-05 \t 9 \t\n",
      "134.09833289875962 \t 5.159780351999999e-05 \t 10 \t\n",
      "109.99502698533921 \t 6.191736422399998e-05 \t 11 \t\n",
      "101.81202259433485 \t 7.430083706879998e-05 \t 12 \t\n",
      "100.08736142599473 \t 8.916100448255998e-05 \t 13 \t\n",
      "99.88556672958691 \t 0.00010699320537907197 \t 14 \t\n",
      "99.87600090387211 \t 0.00012839184645488635 \t 15 \t\n",
      "99.87593471626987 \t 0.0001540702157458636 \t 16 \t\n",
      "99.87593424989201 \t 0.0001848842588950363 \t 17 \t\n",
      "Calculating learning rate again\n",
      "99.87593421853752 \t 0.00011093055533702178 \t 18 \t\n",
      "99.87593417185028 \t 0.00013311666640442613 \t 19 \t\n",
      "99.87593417063758 \t 0.00015973999968531133 \t 20 \t\n",
      "Calculating learning rate again\n",
      "99.87593417051707 \t 9.58439998111868e-05 \t 21 \t\n",
      "99.87593417017789 \t 0.00011501279977342415 \t 22 \t\n",
      "99.87593417017305 \t 0.00013801535972810897 \t 23 \t\n",
      "99.87593417017261 \t 0.00016561843167373075 \t 24 \t\n",
      "Calculating learning rate again\n",
      "99.8759341701726 \t 9.937105900423845e-05 \t 25 \t\n",
      "99.87593417017234 \t 0.00011924527080508613 \t 26 \t\n",
      "99.87593417017233 \t 0.00014309432496610337 \t 27 \t\n",
      "99.87593417017233 \t 0.00017171318995932403 \t 28 \t\n",
      "Calculating learning rate again\n",
      "99.87593417017233 \t 0.00010302791397559441 \t 29 \t\n",
      "Calculating learning rate again\n",
      "99.87593417017233 \t 6.181674838535665e-05 \t 30 \t\n"
     ]
    },
    {
     "data": {
      "image/png": "[encoded data removed]",
      "text/plain": [
       "<Figure size 432x288 with 1 Axes>"
      ]
     },
     "metadata": {
      "needs_background": "light"
     },
     "output_type": "display_data"
    }
   ],
   "source": [
    "import numpy as np\n",
    "from numpy import linalg as la\n",
    "import matplotlib.pyplot as plt\n",
    "from matplotlib import cm\n",
    "import random\n",
    "\n",
    "#X, Y 행렬을 난수로 생성\n",
    "X = np.random.randn(10000, 100)\n",
    "theta=np.random.randn(100,1)\n",
    "Y = np.random.randn(10000,1)\n",
    "k=[]\n",
    "norm=[]\n",
    "#cost_theta=np.dot(x,theta)-y\n",
    "\n",
    "def loss(theta):\n",
    "    return la.norm(X.dot(theta)-Y)\n",
    "    \n",
    "def grad(theta):\n",
    "    return (X.T).dot(X.dot(theta)-Y)\n",
    "  # return X.T@(X@theta-y)\n",
    "\n",
    "def gradnorm(theta):\n",
    "    return la.norm(grad(theta))\n",
    "    \n",
    "def gradient_descent(theta):\n",
    "    learning_rate=0.00001\n",
    "    iters=1\n",
    "    while(1):\n",
    "        curr_cost=loss(theta)\n",
    "        next_cost=loss(theta-learning_rate*grad(theta))\n",
    "        if(curr_cost>=next_cost):\n",
    "            k.append(iters)\n",
    "            norm.append(curr_cost)\n",
    "            print(curr_cost,\"\\t\", learning_rate, \"\\t\", iters, \"\\t\")\n",
    "            theta-=learning_rate*grad(theta)\n",
    "            iters+=1\n",
    "            learning_rate*=1.2\n",
    "        else:\n",
    "            print(\"Calculating learning rate again\")\n",
    "            learning_rate*=0.5\n",
    "        if(gradnorm(theta)<0.000005):\n",
    "            break\n",
    "\n",
    "gradient_descent(theta)\n",
    "plt.plot(k,norm)\n",
    "plt.xlabel('k')\n",
    "plt.ylabel('loss')\n",
    "plt.title('Gradient descent')\n",
    "plt.show()\n",
    "\n"
   ]
  },
  {
   "cell_type": "code",
   "execution_count": null,
   "metadata": {},
   "outputs": [],
   "source": [
    "plt.plot(outcome)"
   ]
  },
  {
   "cell_type": "code",
   "execution_count": null,
   "metadata": {},
   "outputs": [],
   "source": []
  },
  {
   "cell_type": "code",
   "execution_count": 1,
   "metadata": {},
   "outputs": [
    {
     "ename": "NameError",
     "evalue": "name 'np' is not defined",
     "output_type": "error",
     "traceback": [
      "\u001b[0;31m---------------------------------------------------------------------------\u001b[0m",
      "\u001b[0;31mNameError\u001b[0m                                 Traceback (most recent call last)",
      "\u001b[0;32m<ipython-input-1-2541ce1010bc>\u001b[0m in \u001b[0;36m<module>\u001b[0;34m\u001b[0m\n\u001b[0;32m----> 1\u001b[0;31m \u001b[0mx\u001b[0m\u001b[0;34m=\u001b[0m \u001b[0mnp\u001b[0m\u001b[0;34m.\u001b[0m\u001b[0marange\u001b[0m\u001b[0;34m(\u001b[0m\u001b[0;34m-\u001b[0m\u001b[0;36m5.01\u001b[0m\u001b[0;34m,\u001b[0m \u001b[0;36m5.01\u001b[0m\u001b[0;34m,\u001b[0m \u001b[0;36m0.01\u001b[0m\u001b[0;34m)\u001b[0m\u001b[0;34m\u001b[0m\u001b[0;34m\u001b[0m\u001b[0m\n\u001b[0m\u001b[1;32m      2\u001b[0m \u001b[0;34m\u001b[0m\u001b[0m\n\u001b[1;32m      3\u001b[0m \u001b[0mtheta\u001b[0m\u001b[0;34m=\u001b[0m\u001b[0mrandom\u001b[0m\u001b[0;34m.\u001b[0m\u001b[0mrandint\u001b[0m\u001b[0;34m(\u001b[0m\u001b[0;36m2\u001b[0m\u001b[0;34m,\u001b[0m\u001b[0;36m4\u001b[0m\u001b[0;34m)\u001b[0m\u001b[0;34m\u001b[0m\u001b[0;34m\u001b[0m\u001b[0m\n\u001b[1;32m      4\u001b[0m \u001b[0mhistory\u001b[0m\u001b[0;34m=\u001b[0m\u001b[0;34m[\u001b[0m\u001b[0mtheta\u001b[0m\u001b[0;34m]\u001b[0m\u001b[0;34m\u001b[0m\u001b[0;34m\u001b[0m\u001b[0m\n\u001b[1;32m      5\u001b[0m \u001b[0mlearning_rate\u001b[0m\u001b[0;34m=\u001b[0m\u001b[0;36m0.01\u001b[0m\u001b[0;34m\u001b[0m\u001b[0;34m\u001b[0m\u001b[0m\n",
      "\u001b[0;31mNameError\u001b[0m: name 'np' is not defined"
     ]
    }
   ],
   "source": [
    "x= np.arange(-5.01, 5.01, 0.01)\n",
    "\n",
    "theta=random.randint(2,4)\n",
    "history=[theta]\n",
    "learning_rate=0.01\n",
    "\n",
    "for i in range(50):\n",
    "    gradient=theta*2\n",
    "    new_theta=theta-gradient*learning_rate\n",
    "    if(abs(new_theta) < abs(theta)):\n",
    "        learning_rate*=1.2\n",
    "    history.append(new_theta)\n",
    "    theta=new_theta\n",
    "    print(theta)\n",
    "\n",
    "    \n",
    "his = np.array(history)\n",
    "\n",
    "plt.plot(x,x**2)    \n",
    "plt.plot(his, his**2, 'r--')\n",
    "\n",
    "\n",
    "\n"
   ]
  },
  {
   "cell_type": "code",
   "execution_count": 2,
   "metadata": {},
   "outputs": [
    {
     "data": {
      "text/plain": [
       "0.03"
      ]
     },
     "execution_count": 2,
     "metadata": {},
     "output_type": "execute_result"
    }
   ],
   "source": [
    "0.06/2"
   ]
  },
  {
   "cell_type": "code",
   "execution_count": null,
   "metadata": {},
   "outputs": [],
   "source": []
  }
 ],
 "metadata": {
  "kernelspec": {
   "display_name": "Python 3",
   "language": "python",
   "name": "python3"
  },
  "language_info": {
   "codemirror_mode": {
    "name": "ipython",
    "version": 3
   },
   "file_extension": ".py",
   "mimetype": "text/x-python",
   "name": "python",
   "nbconvert_exporter": "python",
   "pygments_lexer": "ipython3",
   "version": "3.6.8"
  }
 },
 "nbformat": 4,
 "nbformat_minor": 2
}
