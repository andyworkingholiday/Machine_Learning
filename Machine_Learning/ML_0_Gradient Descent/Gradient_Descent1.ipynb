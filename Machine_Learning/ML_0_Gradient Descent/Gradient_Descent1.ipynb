{
 "cells": [
  {
   "cell_type": "code",
   "execution_count": 7,
   "metadata": {},
   "outputs": [
    {
     "name": "stdout",
     "output_type": "stream",
     "text": [
      "799981.7095330893 \t 1e-05 \t 1 \t\n",
      "645786.9060733719 \t 1.2e-05 \t 2 \t\n",
      "498824.3019328157 \t 1.44e-05 \t 3 \t\n",
      "365388.39589445206 \t 1.7279999999999997e-05 \t 4 \t\n",
      "251216.35735038595 \t 2.0735999999999996e-05 \t 5 \t\n",
      "160396.11348077335 \t 2.4883199999999996e-05 \t 6 \t\n",
      "94368.62606367379 \t 2.9859839999999994e-05 \t 7 \t\n",
      "51439.58025553252 \t 3.583180799999999e-05 \t 8 \t\n",
      "27166.410079864272 \t 4.299816959999999e-05 \t 9 \t\n",
      "15657.45565894218 \t 5.159780351999999e-05 \t 10 \t\n",
      "11296.994211483758 \t 6.191736422399998e-05 \t 11 \t\n",
      "10060.462547035422 \t 7.430083706879998e-05 \t 12 \t\n",
      "9821.306064291752 \t 8.916100448255998e-05 \t 13 \t\n",
      "9794.098715470569 \t 0.00010699320537907197 \t 14 \t\n",
      "9792.754714464865 \t 0.00012839184645488635 \t 15 \t\n",
      "9792.743809641059 \t 0.0001540702157458636 \t 16 \t\n",
      "9792.743736933053 \t 0.0001848842588950363 \t 17 \t\n",
      "Calculating learning rate again\n",
      "9792.74373181258 \t 0.00011093055533702178 \t 18 \t\n",
      "9792.743723897025 \t 0.00013311666640442613 \t 19 \t\n",
      "9792.743723719801 \t 0.00015973999968531133 \t 20 \t\n",
      "Calculating learning rate again\n",
      "9792.743723702111 \t 9.58439998111868e-05 \t 21 \t\n",
      "9792.743723661431 \t 0.00011501279977342415 \t 22 \t\n",
      "9792.743723660926 \t 0.00013801535972810897 \t 23 \t\n",
      "9792.74372366088 \t 0.00016561843167373075 \t 24 \t\n",
      "Calculating learning rate again\n",
      "9792.743723660877 \t 9.937105900423845e-05 \t 25 \t\n",
      "9792.743723660851 \t 0.00011924527080508613 \t 26 \t\n",
      "9792.743723660851 \t 0.00014309432496610337 \t 27 \t\n",
      "9792.743723660851 \t 0.00017171318995932403 \t 28 \t\n",
      "9792.743723660851 \t 0.00020605582795118883 \t 29 \t\n",
      "9792.743723660851 \t 0.0002472669935414266 \t 30 \t\n",
      "9792.743723660851 \t 0.0002967203922497119 \t 31 \t\n",
      "Calculating learning rate again\n",
      "Calculating learning rate again\n",
      "9792.743723660851 \t 8.901611767491357e-05 \t 32 \t\n",
      "9792.743723660851 \t 0.00010681934120989628 \t 33 \t\n"
     ]
    },
    {
     "data": {
      "image/png": "[encoded data removed]",
      "text/plain": [
       "<Figure size 432x288 with 1 Axes>"
      ]
     },
     "metadata": {
      "needs_background": "light"
     },
     "output_type": "display_data"
    }
   ],
   "source": [
    "import numpy as np\n",
    "from numpy import linalg as la\n",
    "import matplotlib.pyplot as plt\n",
    "from matplotlib import cm\n",
    "import random\n",
    "\n",
    "#X, Y 행렬을 난수로 생성\n",
    "X = np.random.randn(10000, 100)\n",
    "theta=np.random.randn(100,1)\n",
    "Y = np.random.randn(10000,1)\n",
    "k=[]\n",
    "norm=[]\n",
    "#cost_theta=np.dot(x,theta)-y\n",
    "\n",
    "def loss(theta):\n",
    "    return la.norm(X.dot(theta)-Y)**2\n",
    "    \n",
    "def grad(theta):\n",
    "    return (X.T).dot(X.dot(theta)-Y)\n",
    "  # return X.T@(X@theta-y)\n",
    "\n",
    "def gradnorm(theta):\n",
    "    return la.norm(grad(theta))\n",
    "    \n",
    "def gradient_descent(theta):\n",
    "    learning_rate=0.00001\n",
    "    iters=1\n",
    "\n",
    "    while(1):\n",
    "        curr_cost=loss(theta)\n",
    "        next_cost=loss(theta-learning_rate*grad(theta))\n",
    "        if(curr_cost>=next_cost):\n",
    "            k.append(iters)\n",
    "            norm.append(curr_cost)\n",
    "            print(curr_cost,\"\\t\", learning_rate, \"\\t\", iters, \"\\t\")\n",
    "            theta-=learning_rate*grad(theta)\n",
    "            iters +=1\n",
    "            learning_rate*=1.2\n",
    "        else:\n",
    "            print(\"Calculating learning rate again\")\n",
    "            learning_rate*=0.5\n",
    "        if(gradnorm(theta)<0.000005):\n",
    "            break\n",
    "\n",
    "gradient_descent(theta)\n",
    "plt.plot(k,norm)\n",
    "plt.xlabel('k')\n",
    "plt.ylabel('loss')\n",
    "plt.title('Gradient descent')\n",
    "plt.show()\n",
    "\n"
   ]
  },
  {
   "cell_type": "code",
   "execution_count": 22,
   "metadata": {},
   "outputs": [
    {
     "data": {
      "text/plain": [
       "99.84664699833151"
      ]
     },
     "execution_count": 22,
     "metadata": {},
     "output_type": "execute_result"
    }
   ],
   "source": [
    "la.norm(X@theta-Y)"
   ]
  },
  {
   "cell_type": "code",
   "execution_count": 23,
   "metadata": {},
   "outputs": [
    {
     "data": {
      "text/plain": [
       "((10000, 100), (10000, 1))"
      ]
     },
     "execution_count": 23,
     "metadata": {},
     "output_type": "execute_result"
    }
   ],
   "source": [
    "X.shape, Y.shape\n"
   ]
  },
  {
   "cell_type": "code",
   "execution_count": 24,
   "metadata": {},
   "outputs": [],
   "source": [
    "theta_ls=la.lstsq(X,Y, rcond=None)[0]\n"
   ]
  },
  {
   "cell_type": "code",
   "execution_count": 25,
   "metadata": {},
   "outputs": [
    {
     "data": {
      "text/plain": [
       "99.84664699833151"
      ]
     },
     "execution_count": 25,
     "metadata": {},
     "output_type": "execute_result"
    }
   ],
   "source": [
    "la.norm(X@theta_ls-Y)"
   ]
  },
  {
   "cell_type": "code",
   "execution_count": 19,
   "metadata": {},
   "outputs": [
    {
     "data": {
      "text/plain": [
       "99.2274914785361"
      ]
     },
     "execution_count": 19,
     "metadata": {},
     "output_type": "execute_result"
    }
   ],
   "source": []
  },
  {
   "cell_type": "code",
   "execution_count": 1,
   "metadata": {},
   "outputs": [
    {
     "ename": "NameError",
     "evalue": "name 'np' is not defined",
     "output_type": "error",
     "traceback": [
      "\u001b[0;31m---------------------------------------------------------------------------\u001b[0m",
      "\u001b[0;31mNameError\u001b[0m                                 Traceback (most recent call last)",
      "\u001b[0;32m<ipython-input-1-2541ce1010bc>\u001b[0m in \u001b[0;36m<module>\u001b[0;34m\u001b[0m\n\u001b[0;32m----> 1\u001b[0;31m \u001b[0mx\u001b[0m\u001b[0;34m=\u001b[0m \u001b[0mnp\u001b[0m\u001b[0;34m.\u001b[0m\u001b[0marange\u001b[0m\u001b[0;34m(\u001b[0m\u001b[0;34m-\u001b[0m\u001b[0;36m5.01\u001b[0m\u001b[0;34m,\u001b[0m \u001b[0;36m5.01\u001b[0m\u001b[0;34m,\u001b[0m \u001b[0;36m0.01\u001b[0m\u001b[0;34m)\u001b[0m\u001b[0;34m\u001b[0m\u001b[0;34m\u001b[0m\u001b[0m\n\u001b[0m\u001b[1;32m      2\u001b[0m \u001b[0;34m\u001b[0m\u001b[0m\n\u001b[1;32m      3\u001b[0m \u001b[0mtheta\u001b[0m\u001b[0;34m=\u001b[0m\u001b[0mrandom\u001b[0m\u001b[0;34m.\u001b[0m\u001b[0mrandint\u001b[0m\u001b[0;34m(\u001b[0m\u001b[0;36m2\u001b[0m\u001b[0;34m,\u001b[0m\u001b[0;36m4\u001b[0m\u001b[0;34m)\u001b[0m\u001b[0;34m\u001b[0m\u001b[0;34m\u001b[0m\u001b[0m\n\u001b[1;32m      4\u001b[0m \u001b[0mhistory\u001b[0m\u001b[0;34m=\u001b[0m\u001b[0;34m[\u001b[0m\u001b[0mtheta\u001b[0m\u001b[0;34m]\u001b[0m\u001b[0;34m\u001b[0m\u001b[0;34m\u001b[0m\u001b[0m\n\u001b[1;32m      5\u001b[0m \u001b[0mlearning_rate\u001b[0m\u001b[0;34m=\u001b[0m\u001b[0;36m0.01\u001b[0m\u001b[0;34m\u001b[0m\u001b[0;34m\u001b[0m\u001b[0m\n",
      "\u001b[0;31mNameError\u001b[0m: name 'np' is not defined"
     ]
    }
   ],
   "source": [
    "x= np.arange(-5.01, 5.01, 0.01)\n",
    "\n",
    "theta=random.randint(2,4)\n",
    "history=[theta]\n",
    "learning_rate=0.01\n",
    "\n",
    "for i in range(50):\n",
    "    gradient=theta*2\n",
    "    new_theta=theta-gradient*learning_rate\n",
    "    if(abs(new_theta) < abs(theta)):\n",
    "        learning_rate*=1.2\n",
    "    history.append(new_theta)\n",
    "    theta=new_theta\n",
    "    print(theta)\n",
    "\n",
    "    \n",
    "his = np.array(history)\n",
    "\n",
    "plt.plot(x,x**2)    \n",
    "plt.plot(his, his**2, 'r--')\n",
    "\n",
    "\n",
    "\n"
   ]
  },
  {
   "cell_type": "code",
   "execution_count": 2,
   "metadata": {},
   "outputs": [
    {
     "data": {
      "text/plain": [
       "0.03"
      ]
     },
     "execution_count": 2,
     "metadata": {},
     "output_type": "execute_result"
    }
   ],
   "source": [
    "0.06/2"
   ]
  },
  {
   "cell_type": "code",
   "execution_count": null,
   "metadata": {},
   "outputs": [],
   "source": []
  }
 ],
 "metadata": {
  "kernelspec": {
   "display_name": "Python 3",
   "language": "python",
   "name": "python3"
  },
  "language_info": {
   "codemirror_mode": {
    "name": "ipython",
    "version": 3
   },
   "file_extension": ".py",
   "mimetype": "text/x-python",
   "name": "python",
   "nbconvert_exporter": "python",
   "pygments_lexer": "ipython3",
   "version": "3.6.8"
  }
 },
 "nbformat": 4,
 "nbformat_minor": 2
}
